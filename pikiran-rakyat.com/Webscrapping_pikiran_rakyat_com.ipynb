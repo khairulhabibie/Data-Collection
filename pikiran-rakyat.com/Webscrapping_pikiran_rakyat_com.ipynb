{
 "cells": [
  {
   "cell_type": "code",
   "execution_count": 26,
   "metadata": {},
   "outputs": [],
   "source": [
    "# import library / package\n",
    "from urllib.request import urlopen\n",
    "from bs4 import BeautifulSoup\n",
    "import pandas as pd"
   ]
  },
  {
   "cell_type": "code",
   "execution_count": 27,
   "metadata": {},
   "outputs": [],
   "source": [
    "# alamat yanga akan di srapping \n",
    "alamat = \"https://www.pikiran-rakyat.com/\"      # sesuaikan alamat website\n",
    "html = urlopen(alamat)\n",
    "soup = BeautifulSoup(html, 'html.parser')"
   ]
  },
  {
   "cell_type": "code",
   "execution_count": 28,
   "metadata": {},
   "outputs": [
    {
     "data": {
      "text/html": [
       "<div>\n",
       "<style scoped>\n",
       "    .dataframe tbody tr th:only-of-type {\n",
       "        vertical-align: middle;\n",
       "    }\n",
       "\n",
       "    .dataframe tbody tr th {\n",
       "        vertical-align: top;\n",
       "    }\n",
       "\n",
       "    .dataframe thead th {\n",
       "        text-align: right;\n",
       "    }\n",
       "</style>\n",
       "<table border=\"1\" class=\"dataframe\">\n",
       "  <thead>\n",
       "    <tr style=\"text-align: right;\">\n",
       "      <th></th>\n",
       "      <th>berita_populer</th>\n",
       "    </tr>\n",
       "  </thead>\n",
       "  <tbody>\n",
       "    <tr>\n",
       "      <th>0</th>\n",
       "      <td>Terpaksa Ungkap Rahasia Vanessa Angel dan Bibi...</td>\n",
       "    </tr>\n",
       "    <tr>\n",
       "      <th>1</th>\n",
       "      <td>Analisis Video Syur 61 Detik Mirip Nagita Slav...</td>\n",
       "    </tr>\n",
       "    <tr>\n",
       "      <th>2</th>\n",
       "      <td>Kim Hawt Mengganas pada Orangtua Vanessa Angel...</td>\n",
       "    </tr>\n",
       "    <tr>\n",
       "      <th>3</th>\n",
       "      <td>Saham Milik Kaesang Anjlok, Dunia Internasiona...</td>\n",
       "    </tr>\n",
       "    <tr>\n",
       "      <th>4</th>\n",
       "      <td>Rekan Tukul Arwana Beberkan Kondisi Sang Komed...</td>\n",
       "    </tr>\n",
       "    <tr>\n",
       "      <th>5</th>\n",
       "      <td>Bongkar Soal Kasus Rp80 Juta Vanessa Angel di ...</td>\n",
       "    </tr>\n",
       "    <tr>\n",
       "      <th>6</th>\n",
       "      <td>Video Mirip Nagita Slavina Diklaim Bukan Rekay...</td>\n",
       "    </tr>\n",
       "    <tr>\n",
       "      <th>7</th>\n",
       "      <td>Artis T dan D Diramal Hard Gumay akan Meningga...</td>\n",
       "    </tr>\n",
       "    <tr>\n",
       "      <th>8</th>\n",
       "      <td>Rekaman Video dan Foto Jadi Bukti, Kalina Ockt...</td>\n",
       "    </tr>\n",
       "    <tr>\n",
       "      <th>9</th>\n",
       "      <td>Kim Hawt Diminta Hentikan Obrak-Abrik Keluarga...</td>\n",
       "    </tr>\n",
       "  </tbody>\n",
       "</table>\n",
       "</div>"
      ],
      "text/plain": [
       "                                      berita_populer\n",
       "0  Terpaksa Ungkap Rahasia Vanessa Angel dan Bibi...\n",
       "1  Analisis Video Syur 61 Detik Mirip Nagita Slav...\n",
       "2  Kim Hawt Mengganas pada Orangtua Vanessa Angel...\n",
       "3  Saham Milik Kaesang Anjlok, Dunia Internasiona...\n",
       "4  Rekan Tukul Arwana Beberkan Kondisi Sang Komed...\n",
       "5  Bongkar Soal Kasus Rp80 Juta Vanessa Angel di ...\n",
       "6  Video Mirip Nagita Slavina Diklaim Bukan Rekay...\n",
       "7  Artis T dan D Diramal Hard Gumay akan Meningga...\n",
       "8  Rekaman Video dan Foto Jadi Bukti, Kalina Ockt...\n",
       "9  Kim Hawt Diminta Hentikan Obrak-Abrik Keluarga..."
      ]
     },
     "execution_count": 28,
     "metadata": {},
     "output_type": "execute_result"
    }
   ],
   "source": [
    "# mencari dan assigement data\n",
    "\n",
    "table = soup.find(\"div\", {\"class\":\"most__wrap\"})\n",
    "#print(table)\n",
    "rows = table.find_all(\"h2\", {\"class\":\"most__title\"})\n",
    "#print(rows)\n",
    "konten = [row.get_text() for row in rows]\n",
    "#print(konten)\n",
    "df_konten = pd.DataFrame(konten, columns=['berita_populer'])\n",
    "df_konten"
   ]
  },
  {
   "cell_type": "code",
   "execution_count": 29,
   "metadata": {},
   "outputs": [],
   "source": [
    "# simpan dataframe ke .csv\n",
    "\n",
    "df_konten.to_csv('hasil_Webscrapping_pikiran_rakyat_com.csv', index=False)"
   ]
  }
 ],
 "metadata": {
  "interpreter": {
   "hash": "a7a5a4b9bb287d33a8a9ddbe70120891a9d252e4f3644c9174aecef205c26e2a"
  },
  "kernelspec": {
   "display_name": "Python 3.7.0 64-bit ('Env': venv)",
   "language": "python",
   "name": "python3"
  },
  "language_info": {
   "codemirror_mode": {
    "name": "ipython",
    "version": 3
   },
   "file_extension": ".py",
   "mimetype": "text/x-python",
   "name": "python",
   "nbconvert_exporter": "python",
   "pygments_lexer": "ipython3",
   "version": "3.7.0"
  },
  "orig_nbformat": 4
 },
 "nbformat": 4,
 "nbformat_minor": 2
}
