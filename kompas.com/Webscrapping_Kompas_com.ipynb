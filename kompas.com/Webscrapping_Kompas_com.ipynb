{
 "cells": [
  {
   "cell_type": "code",
   "execution_count": 1,
   "metadata": {},
   "outputs": [],
   "source": [
    "# import library yang digunakan\n",
    "from urllib.request import urlopen\n",
    "from bs4 import BeautifulSoup\n",
    "import pandas as pd"
   ]
  },
  {
   "cell_type": "code",
   "execution_count": 2,
   "metadata": {},
   "outputs": [],
   "source": [
    "# alamat yang akan di scraping\n",
    "alamat = \"https://www.kompas.com/\"\n",
    "html = urlopen(alamat)\n",
    "soup = BeautifulSoup(html, 'html.parser')"
   ]
  },
  {
   "cell_type": "code",
   "execution_count": 3,
   "metadata": {},
   "outputs": [],
   "source": [
    "# mencari dan assigement data\n",
    "\n",
    "table = soup.find(\"div\", {\"class\":\"most ga--most mt1 clearfix\"})\n",
    "#print(table)\n",
    "rows = table.find_all(\"h4\", {\"class\":\"most__title\"})\n",
    "#print(rows)\n",
    "konten = [row.get_text() for row in rows]\n",
    "#print(konten)\n",
    "df_konten = pd.DataFrame(konten, columns=['berita_populer'])\n",
    "#df_konten\n",
    "\n",
    "\n",
    "'''\n",
    "-- tag yang digunakan disesuaikan dengan tag pada html website tujuan webscapping\n",
    "'''"
   ]
  },
  {
   "cell_type": "code",
   "execution_count": 4,
   "metadata": {},
   "outputs": [],
   "source": [
    "# simpan dataframe ke .csv\n",
    "\n",
    "df_konten.to_csv('hasil_Webscrapping_Kompas_com.csv', index=False)"
   ]
  }
 ],
 "metadata": {
  "interpreter": {
   "hash": "a7a5a4b9bb287d33a8a9ddbe70120891a9d252e4f3644c9174aecef205c26e2a"
  },
  "kernelspec": {
   "display_name": "Python 3.7.0 64-bit ('Env': venv)",
   "language": "python",
   "name": "python3"
  },
  "language_info": {
   "codemirror_mode": {
    "name": "ipython",
    "version": 3
   },
   "file_extension": ".py",
   "mimetype": "text/x-python",
   "name": "python",
   "nbconvert_exporter": "python",
   "pygments_lexer": "ipython3",
   "version": "3.7.0"
  },
  "orig_nbformat": 4
 },
 "nbformat": 4,
 "nbformat_minor": 2
}
